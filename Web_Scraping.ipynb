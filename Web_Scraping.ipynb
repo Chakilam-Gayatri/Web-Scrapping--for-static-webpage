{
  "nbformat": 4,
  "nbformat_minor": 0,
  "metadata": {
    "colab": {
      "name": "Web-Scraping.ipynb",
      "provenance": [],
      "collapsed_sections": [],
      "authorship_tag": "ABX9TyPSmsy0SG/v3Ib+Wi7Ex4cl",
      "include_colab_link": true
    },
    "kernelspec": {
      "name": "python3",
      "display_name": "Python 3"
    }
  },
  "cells": [
    {
      "cell_type": "markdown",
      "metadata": {
        "id": "view-in-github",
        "colab_type": "text"
      },
      "source": [
        "<a href=\"https://colab.research.google.com/github/Chakilam-Gayatri/Web-Scrapping--for-static-webpage/blob/main/Web_Scraping.ipynb\" target=\"_parent\"><img src=\"https://colab.research.google.com/assets/colab-badge.svg\" alt=\"Open In Colab\"/></a>"
      ]
    },
    {
      "cell_type": "code",
      "metadata": {
        "id": "yqxH41bf7fgt"
      },
      "source": [
        "import bs4 as bs\n",
        "import urllib.request as url_x\n",
        "import pandas as pd"
      ],
      "execution_count": null,
      "outputs": []
    },
    {
      "cell_type": "code",
      "metadata": {
        "colab": {
          "base_uri": "https://localhost:8080/"
        },
        "id": "rIRcaM2S80t-",
        "outputId": "fcbd9b52-b73d-465f-bc78-c70e5e488ae2"
      },
      "source": [
        "BusinessNames=[]\n",
        "Phone=[]\n",
        "Address=[]\n",
        "Urls=[]\n",
        "state_name = input('Enter State name here:')\n",
        "print('Process Ignited')\n"
      ],
      "execution_count": null,
      "outputs": [
        {
          "output_type": "stream",
          "text": [
            "Enter State name here:Alabama\n",
            "Process Ignited\n"
          ],
          "name": "stdout"
        }
      ]
    },
    {
      "cell_type": "code",
      "metadata": {
        "colab": {
          "base_uri": "https://localhost:8080/"
        },
        "id": "mO-asHJt88q3",
        "outputId": "05df820a-9724-434d-b0a1-634388dd05d2"
      },
      "source": [
        "url='https://www.yelp.com/search?find_desc=Restaurants&find_near=alabama-state-capitol-montgomery'\n",
        "\n",
        "urlsource=''+url+'&next='\n",
        "no_of_pages=8\n",
        "for iteration in range(no_of_pages):\n",
        "  s=iteration*10\n",
        "  if(s==0):\n",
        "    s=1\n",
        "  source = url_x.urlopen(urlsource+str(s))\n",
        "  print(urlsource+str(s))\n",
        "\n",
        "  page_soup = bs.BeautifulSoup(source, 'html.parser')\n",
        "  mains = page_soup.find_all(\"div\", {\"class\": \" scrollablePhotos__09f24__1PpB8 arrange__09f24__AiSIM border-color--default__09f24__R1nRO\"})\n",
        "for main in mains:\n",
        "  try:\n",
        "          busname = main.find(\"a\", {\"class\" : \" link__09f24__1kwXV link-color--inherit__09f24__3PYlA link-size--inherit__09f24__2Uj95\"}).text\n",
        "          BusinessNames.append(busname)\n",
        "          pnumber = main.find(\"p\", {\"class\" : \" text__09f24__2tZKC text-color--black-extra-light__09f24__38DtK text-align--right__09f24__1TIxB text-size--small__09f24__1Z_UI\"}).text\n",
        "          Phone.append(pnumber)\n",
        "          address = main.find(\"span\", {\"class\" : \" raw__09f24__3Obuy\"}).text\n",
        "          Address.append(address)\n",
        "          url = main.find(\"a\", {\"class\" : \" link__09f24__1kwXV link-color--inherit__09f24__3PYlA link-size--inherit__09f24__2Uj95\"})['href']\n",
        "          Urls.append(\"yelp.com\" + url)\n",
        "  except:\n",
        "      print(None)\n",
        "  print('Loading......')\n",
        "print('Done with processing')\n"
      ],
      "execution_count": null,
      "outputs": [
        {
          "output_type": "stream",
          "text": [
            "https://www.yelp.com/search?find_desc=Restaurants&find_near=alabama-state-capitol-montgomery&next=1\n",
            "https://www.yelp.com/search?find_desc=Restaurants&find_near=alabama-state-capitol-montgomery&next=10\n",
            "https://www.yelp.com/search?find_desc=Restaurants&find_near=alabama-state-capitol-montgomery&next=20\n",
            "https://www.yelp.com/search?find_desc=Restaurants&find_near=alabama-state-capitol-montgomery&next=30\n",
            "https://www.yelp.com/search?find_desc=Restaurants&find_near=alabama-state-capitol-montgomery&next=40\n",
            "https://www.yelp.com/search?find_desc=Restaurants&find_near=alabama-state-capitol-montgomery&next=50\n",
            "https://www.yelp.com/search?find_desc=Restaurants&find_near=alabama-state-capitol-montgomery&next=60\n",
            "https://www.yelp.com/search?find_desc=Restaurants&find_near=alabama-state-capitol-montgomery&next=70\n",
            "Loading......\n",
            "Loading......\n",
            "Loading......\n",
            "Loading......\n",
            "Loading......\n",
            "Loading......\n",
            "Loading......\n",
            "Loading......\n",
            "Loading......\n",
            "Loading......\n",
            "Done with processing\n"
          ],
          "name": "stdout"
        }
      ]
    },
    {
      "cell_type": "code",
      "metadata": {
        "id": "-N3nLyGu9J8Y"
      },
      "source": [
        "dictionary = {'BusinessNames': BusinessNames, 'Address': Address, 'State': state_name, 'Phone': Phone,  'Urls': Urls} \n",
        "\n",
        "df=pd.DataFrame(dict([(k,pd.Series(v)) for k,v in dictionary.items()]))\n"
      ],
      "execution_count": null,
      "outputs": []
    },
    {
      "cell_type": "code",
      "metadata": {
        "colab": {
          "base_uri": "https://localhost:8080/"
        },
        "id": "dTMuMejV9QPP",
        "outputId": "3db15397-e2a1-4c16-ce04-f61d35c9bae8"
      },
      "source": [
        "df.to_csv(''+state_name+'.csv',encoding='utf-8-sig')\n",
        "print('saved as a file')\n"
      ],
      "execution_count": null,
      "outputs": [
        {
          "output_type": "stream",
          "text": [
            "saved as a file\n"
          ],
          "name": "stdout"
        }
      ]
    },
    {
      "cell_type": "code",
      "metadata": {
        "colab": {
          "base_uri": "https://localhost:8080/",
          "height": 17
        },
        "id": "GsKqk8i69UU-",
        "outputId": "1c65f052-c885-4636-ca06-a5f6325fed4c"
      },
      "source": [
        "from google.colab import files\n",
        "files.download(''+state_name+'.csv')"
      ],
      "execution_count": null,
      "outputs": [
        {
          "output_type": "display_data",
          "data": {
            "application/javascript": [
              "\n",
              "    async function download(id, filename, size) {\n",
              "      if (!google.colab.kernel.accessAllowed) {\n",
              "        return;\n",
              "      }\n",
              "      const div = document.createElement('div');\n",
              "      const label = document.createElement('label');\n",
              "      label.textContent = `Downloading \"${filename}\": `;\n",
              "      div.appendChild(label);\n",
              "      const progress = document.createElement('progress');\n",
              "      progress.max = size;\n",
              "      div.appendChild(progress);\n",
              "      document.body.appendChild(div);\n",
              "\n",
              "      const buffers = [];\n",
              "      let downloaded = 0;\n",
              "\n",
              "      const channel = await google.colab.kernel.comms.open(id);\n",
              "      // Send a message to notify the kernel that we're ready.\n",
              "      channel.send({})\n",
              "\n",
              "      for await (const message of channel.messages) {\n",
              "        // Send a message to notify the kernel that we're ready.\n",
              "        channel.send({})\n",
              "        if (message.buffers) {\n",
              "          for (const buffer of message.buffers) {\n",
              "            buffers.push(buffer);\n",
              "            downloaded += buffer.byteLength;\n",
              "            progress.value = downloaded;\n",
              "          }\n",
              "        }\n",
              "      }\n",
              "      const blob = new Blob(buffers, {type: 'application/binary'});\n",
              "      const a = document.createElement('a');\n",
              "      a.href = window.URL.createObjectURL(blob);\n",
              "      a.download = filename;\n",
              "      div.appendChild(a);\n",
              "      a.click();\n",
              "      div.remove();\n",
              "    }\n",
              "  "
            ],
            "text/plain": [
              "<IPython.core.display.Javascript object>"
            ]
          },
          "metadata": {
            "tags": []
          }
        },
        {
          "output_type": "display_data",
          "data": {
            "application/javascript": [
              "download(\"download_067576b8-a93c-4628-a396-bb1452d59999\", \"Alabama.csv\", 1490)"
            ],
            "text/plain": [
              "<IPython.core.display.Javascript object>"
            ]
          },
          "metadata": {
            "tags": []
          }
        }
      ]
    }
  ]
}